{
 "cells": [
  {
   "cell_type": "code",
   "execution_count": 126,
   "metadata": {},
   "outputs": [],
   "source": [
    "import numpy as np\n",
    "import cv2\n",
    "import os\n",
    "from random import shuffle\n",
    "from tqdm import tqdm\n",
    "\n",
    "# Parametros de datos y CNN\n",
    "imgSize = 50\n",
    "learningRate = 1e-3\n",
    "modelName =  'perros-gatos-{}-{}.model'.format(learningRate, '6conv-basic')\n"
   ]
  },
  {
   "cell_type": "code",
   "execution_count": 101,
   "metadata": {},
   "outputs": [],
   "source": [
    "'''\n",
    "Clasificacion:\n",
    "Gatitos: [1,0]\n",
    "Perritos: [0,1]\n",
    "'''\n",
    "\n",
    "def labelImg(imgP):\n",
    "    strLabel = str(imgP).split('.')[0]\n",
    "    if strLabel == 'cat':\n",
    "        return [1,0]\n",
    "    elif strLabel == 'dog':\n",
    "        return [0,1]"
   ]
  },
  {
   "cell_type": "code",
   "execution_count": 112,
   "metadata": {},
   "outputs": [],
   "source": [
    "def genTrainData():\n",
    "    \n",
    "    # Matriz que contendra todos los datos de training\n",
    "    tData = []\n",
    "    \n",
    "    for img in tqdm(os.listdir('CNN_Data/training_set')):\n",
    "        path = os.path.join('CNN_Data/training_set', img)\n",
    "        \n",
    "        # Etiquetado\n",
    "        label = labelImg(img) \n",
    "        \n",
    "        # Conv. a escala de grises\n",
    "        img = cv2.imread(path, cv2.IMREAD_GRAYSCALE)\n",
    "        \n",
    "        try:\n",
    "            # Ajuste de tamano\n",
    "            img = cv2.resize(img,(imgSize,imgSize))\n",
    "            # Agregamos a la matriz array de escala de grises y etiqueta\n",
    "            tData.append([np.array(img), np.array(label)])\n",
    "        except:\n",
    "            pass\n",
    "        \n",
    "    shuffle(tData)\n",
    "    print('Imagenes catalogadas: ', len(tData))\n",
    "    \n",
    "    # Guardamos para uso futuro\n",
    "    np.save('trainData.npy', tData)\n",
    "    \n",
    "    return tData"
   ]
  },
  {
   "cell_type": "code",
   "execution_count": 113,
   "metadata": {},
   "outputs": [
    {
     "name": "stderr",
     "output_type": "stream",
     "text": [
      "100%|██████████| 4677/4677 [00:03<00:00, 1209.61it/s]\n"
     ]
    },
    {
     "name": "stdout",
     "output_type": "stream",
     "text": [
      "Imagenes catalogadas:  4676\n"
     ]
    }
   ],
   "source": [
    "# Para llamarlos:\n",
    "trainData = genTrainData()\n",
    "# trainData = np.Load('trainData.npy')\n",
    "#print(len(trainData))"
   ]
  },
  {
   "cell_type": "code",
   "execution_count": 127,
   "metadata": {},
   "outputs": [],
   "source": [
    "def genTestData():\n",
    "    \n",
    "    # Matriz que contendra todos los datos de training\n",
    "    tData = []\n",
    "    \n",
    "    for img in tqdm(os.listdir('CNN_Data/test_set')):\n",
    "        \n",
    "        try:\n",
    "            path = os.path.join('CNN_Data/test_set', img)\n",
    "            # Ajuste de tamano y conv. a escala de grises\n",
    "            img = cv2.resize(cv2.imread(path, cv2.IMREAD_GRAYSCALE), (imgSize,imgSize))\n",
    "            # Etiquetado\n",
    "            label = labelImg(img) \n",
    "            # Agregamos a la matriz array de escala de grises y etiqueta\n",
    "            tData.append([np.array(img), np.array(label)])\n",
    "            \n",
    "        except Exception as e:\n",
    "            pass\n",
    "            #print(str(e))\n",
    "        \n",
    "    shuffle(tData)\n",
    "    \n",
    "    # Guardamos para uso futuro\n",
    "    np.save('testData.npy', tData)\n",
    "    \n",
    "    return tData"
   ]
  },
  {
   "cell_type": "code",
   "execution_count": 142,
   "metadata": {},
   "outputs": [],
   "source": [
    "def genIndividualTest():\n",
    "    \n",
    "    # Matriz que contendra todos los datos de training\n",
    "    tData = []\n",
    "    \n",
    "    for img in tqdm(os.listdir('CNN_Data/Luna')):\n",
    "        \n",
    "        try:\n",
    "            path = os.path.join('CNN_Data/Luna', img)\n",
    "            # Ajuste de tamano y conv. a escala de grises\n",
    "            img = cv2.resize(cv2.imread(path, cv2.IMREAD_GRAYSCALE), (imgSize,imgSize))\n",
    "            # Agregamos a la matriz array de escala de grises y etiqueta\n",
    "            tData.append([np.array(img)])\n",
    "            \n",
    "        except Exception as e:\n",
    "            pass\n",
    "            #print(str(e))\n",
    "        \n",
    "    shuffle(tData)\n",
    "    \n",
    "    # Guardamos para uso futuro\n",
    "    np.save('lunaData.npy', tData)\n",
    "    \n",
    "    return tData"
   ]
  },
  {
   "cell_type": "code",
   "execution_count": 121,
   "metadata": {},
   "outputs": [],
   "source": [
    "import tflearn\n",
    "import tensorflow as tf\n",
    "from tflearn.layers.conv import conv_2d, max_pool_2d\n",
    "from tflearn.layers.core import input_data, dropout, fully_connected\n",
    "from tflearn.layers.estimator import regression\n",
    "\n",
    "tf.reset_default_graph()\n",
    "\n",
    "convnet = input_data(shape=[None, imgSize, imgSize, 1], name='input')\n",
    "\n",
    "# Capas de COVNET = 6\n",
    "convnet = conv_2d(convnet, 32, 2, activation='relu')\n",
    "convnet = max_pool_2d(convnet, 2)\n",
    "\n",
    "convnet = conv_2d(convnet, 64, 2, activation='relu')\n",
    "convnet = max_pool_2d(convnet, 2)\n",
    "\n",
    "convnet = conv_2d(convnet, 32, 2, activation='relu')\n",
    "convnet = max_pool_2d(convnet, 2)\n",
    "\n",
    "convnet = conv_2d(convnet, 64, 2, activation='relu')\n",
    "convnet = max_pool_2d(convnet, 2)\n",
    "\n",
    "convnet = conv_2d(convnet, 32, 2, activation='relu')\n",
    "convnet = max_pool_2d(convnet, 2)\n",
    "\n",
    "convnet = conv_2d(convnet, 64, 2, activation='relu')\n",
    "convnet = max_pool_2d(convnet, 2)\n",
    "\n",
    "# Grafos fuertemente conectados\n",
    "convnet = fully_connected(convnet, 1024, activation='relu')\n",
    "convnet = dropout(convnet, 0.8)\n",
    "\n",
    "# 2 outputs: Perro o gato\n",
    "convnet = fully_connected(convnet, 2, activation='softmax')\n",
    "convnet = regression(convnet, optimizer='adam', learning_rate=learningRate, loss='categorical_crossentropy', name='targets')\n",
    "\n",
    "model = tflearn.DNN(convnet, tensorboard_dir='log')"
   ]
  },
  {
   "cell_type": "code",
   "execution_count": 75,
   "metadata": {},
   "outputs": [],
   "source": [
    "# Cargar modelo si ya generamos uno\n",
    "if os.path.exists('{}.meta'.format(modelName)):\n",
    "    model.load(modelName)\n",
    "    print(\"Modelo cargado.\")"
   ]
  },
  {
   "cell_type": "code",
   "execution_count": 116,
   "metadata": {},
   "outputs": [],
   "source": [
    "# Separamos trainData para internal testing (test son ultimos 500)\n",
    "train = trainData[:-500]\n",
    "test = trainData[-500:]"
   ]
  },
  {
   "cell_type": "code",
   "execution_count": 143,
   "metadata": {},
   "outputs": [
    {
     "name": "stdout",
     "output_type": "stream",
     "text": [
      "Training Step: 1517  | total loss: \u001b[1m\u001b[32m0.14982\u001b[0m\u001b[0m | time: 9.362s\n",
      "| Adam | epoch: 023 | loss: 0.14982 - acc: 0.9439 -- iter: 4160/4176\n",
      "Training Step: 1518  | total loss: \u001b[1m\u001b[32m0.15284\u001b[0m\u001b[0m | time: 10.481s\n",
      "| Adam | epoch: 023 | loss: 0.15284 - acc: 0.9401 | val_loss: 0.72994 - val_acc: 0.7740 -- iter: 4176/4176\n",
      "--\n"
     ]
    }
   ],
   "source": [
    "X = np.array([i[0] for i in train]).reshape(-1, imgSize, imgSize, 1)\n",
    "Y = [i[1] for i in train]\n",
    "\n",
    "testX = np.array([i[0] for i in test]).reshape(-1, imgSize, imgSize, 1)\n",
    "testY = [i[1] for i in test]\n",
    "\n",
    "model.fit({'input': X}, {'targets': Y}, n_epoch=5, validation_set=({'input': testX}, {'targets': testY}), \n",
    "    snapshot_step=500, show_metric=True, run_id='modelName')"
   ]
  },
  {
   "cell_type": "code",
   "execution_count": 124,
   "metadata": {},
   "outputs": [
    {
     "name": "stdout",
     "output_type": "stream",
     "text": [
      "INFO:tensorflow:/Users/emamex98/Documents/PF-Algo/perros-gatos-0.001-2conv-basic.model is not in all_model_checkpoint_paths. Manually adding it.\n"
     ]
    }
   ],
   "source": [
    "# Guardamos el modelo para uso futuro\n",
    "model.save(modelName)"
   ]
  },
  {
   "cell_type": "code",
   "execution_count": 151,
   "metadata": {},
   "outputs": [
    {
     "name": "stderr",
     "output_type": "stream",
     "text": [
      "100%|██████████| 5/5 [00:00<00:00, 24.85it/s]\n"
     ]
    },
    {
     "data": {
      "image/png": "[encoded data removed]",
      "text/plain": [
       "<Figure size 432x288 with 4 Axes>"
      ]
     },
     "metadata": {},
     "output_type": "display_data"
    }
   ],
   "source": [
    "import matplotlib.pyplot as plt\n",
    "\n",
    "#testData = genTestData()\n",
    "testData = genIndividualTest()\n",
    "# Si ya lo tenemos\n",
    "#testData = np.load('testData.npy')\n",
    "\n",
    "fig = plt.figure()\n",
    "\n",
    "'''\n",
    "for num, data in enumerate(testData[:12]):\n",
    "    \n",
    "    testData = data[0]\n",
    "    #testLabel = data[1]\n",
    "    \n",
    "    y = fig.add_subplot(3,4, num+1)\n",
    "    orig = testData\n",
    "    data = testData.reshape(imgSize, imgSize,1)\n",
    "    \n",
    "    modelOut = model.predict([data])[0]\n",
    "    \n",
    "    if np.argmax(modelOut) == 1:\n",
    "        testLabel = 'Dog'\n",
    "    else:\n",
    "        testLabel = 'Cat'\n",
    "        \n",
    "    y.imshow(orig, cmap='gray')\n",
    "    plt.title(testLabel)\n",
    "    \n",
    "    y.axes.get_xaxis().set_visible(False)\n",
    "    y.axes.get_yaxis().set_visible(False)\n",
    "    \n",
    "plt.show()\n",
    "\n",
    "'''\n",
    "# Individual test\n",
    "for num, data in enumerate(testData):\n",
    "    \n",
    "    testData = data[0]\n",
    "    \n",
    "    y = fig.add_subplot(1,4, num+1)\n",
    "    orig = testData\n",
    "    data = testData.reshape(imgSize, imgSize,1)\n",
    "    \n",
    "    modelOut = model.predict([data])[0]\n",
    "    \n",
    "    if np.argmax(modelOut) == 1:\n",
    "        testLabel = 'Dog'\n",
    "    else:\n",
    "        testLabel = 'Cat'\n",
    "        \n",
    "    y.imshow(orig, cmap='gray')\n",
    "    plt.title(testLabel)\n",
    "    \n",
    "    y.axes.get_xaxis().set_visible(False)\n",
    "    y.axes.get_yaxis().set_visible(False)\n",
    "    \n",
    "plt.show()\n"
   ]
  },
  {
   "cell_type": "code",
   "execution_count": null,
   "metadata": {},
   "outputs": [],
   "source": []
  }
 ],
 "metadata": {
  "kernelspec": {
   "display_name": "Python 3",
   "language": "python",
   "name": "python3"
  },
  "language_info": {
   "codemirror_mode": {
    "name": "ipython",
    "version": 3
   },
   "file_extension": ".py",
   "mimetype": "text/x-python",
   "name": "python",
   "nbconvert_exporter": "python",
   "pygments_lexer": "ipython3",
   "version": "3.6.5"
  }
 },
 "nbformat": 4,
 "nbformat_minor": 2
}
